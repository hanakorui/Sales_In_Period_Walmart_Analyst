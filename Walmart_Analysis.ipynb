{
 "cells": [
  {
   "cell_type": "code",
   "execution_count": 3,
   "id": "a1e9ba14",
   "metadata": {},
   "outputs": [],
   "source": [
    "import pandas as pd \n",
    "import numpy as np\n",
    "import matplotlib.pyplot as plt\n",
    "import seaborn as sn\n",
    "import plotly.graph_objs as go\n",
    "import plotly.express as px"
   ]
  },
  {
   "cell_type": "markdown",
   "id": "6531acb7",
   "metadata": {},
   "source": [
    "DATA WRANGLING"
   ]
  },
  {
   "cell_type": "code",
   "execution_count": 4,
   "id": "58c37822",
   "metadata": {},
   "outputs": [
    {
     "data": {
      "text/html": [
       "<div>\n",
       "<style scoped>\n",
       "    .dataframe tbody tr th:only-of-type {\n",
       "        vertical-align: middle;\n",
       "    }\n",
       "\n",
       "    .dataframe tbody tr th {\n",
       "        vertical-align: top;\n",
       "    }\n",
       "\n",
       "    .dataframe thead th {\n",
       "        text-align: right;\n",
       "    }\n",
       "</style>\n",
       "<table border=\"1\" class=\"dataframe\">\n",
       "  <thead>\n",
       "    <tr style=\"text-align: right;\">\n",
       "      <th></th>\n",
       "      <th>ProductId</th>\n",
       "      <th>ProductName</th>\n",
       "      <th>Supplier</th>\n",
       "      <th>ProductCost</th>\n",
       "    </tr>\n",
       "  </thead>\n",
       "  <tbody>\n",
       "    <tr>\n",
       "      <th>0</th>\n",
       "      <td>1</td>\n",
       "      <td>Chocolate Bar - Smarties</td>\n",
       "      <td>National Stores</td>\n",
       "      <td>1.25</td>\n",
       "    </tr>\n",
       "    <tr>\n",
       "      <th>1</th>\n",
       "      <td>2</td>\n",
       "      <td>Pepper - Red Bell</td>\n",
       "      <td>Family Dollar</td>\n",
       "      <td>2.99</td>\n",
       "    </tr>\n",
       "    <tr>\n",
       "      <th>2</th>\n",
       "      <td>3</td>\n",
       "      <td>Chickensplit Half</td>\n",
       "      <td>BJ's Wholesale Club</td>\n",
       "      <td>0.17</td>\n",
       "    </tr>\n",
       "    <tr>\n",
       "      <th>3</th>\n",
       "      <td>4</td>\n",
       "      <td>Zucchini - Green</td>\n",
       "      <td>Ocean State Job Lot</td>\n",
       "      <td>5.28</td>\n",
       "    </tr>\n",
       "    <tr>\n",
       "      <th>4</th>\n",
       "      <td>6</td>\n",
       "      <td>Flower - Dish Garden</td>\n",
       "      <td>BJ's Wholesale Club</td>\n",
       "      <td>0.37</td>\n",
       "    </tr>\n",
       "    <tr>\n",
       "      <th>...</th>\n",
       "      <td>...</td>\n",
       "      <td>...</td>\n",
       "      <td>...</td>\n",
       "      <td>...</td>\n",
       "    </tr>\n",
       "    <tr>\n",
       "      <th>992</th>\n",
       "      <td>996</td>\n",
       "      <td>Okra</td>\n",
       "      <td>Walmart</td>\n",
       "      <td>0.99</td>\n",
       "    </tr>\n",
       "    <tr>\n",
       "      <th>993</th>\n",
       "      <td>997</td>\n",
       "      <td>Pork - Smoked Back Bacon</td>\n",
       "      <td>T.J. Maxx</td>\n",
       "      <td>1.45</td>\n",
       "    </tr>\n",
       "    <tr>\n",
       "      <th>994</th>\n",
       "      <td>998</td>\n",
       "      <td>Flounder - Fresh</td>\n",
       "      <td>Burlington Coat Factory</td>\n",
       "      <td>1.80</td>\n",
       "    </tr>\n",
       "    <tr>\n",
       "      <th>995</th>\n",
       "      <td>999</td>\n",
       "      <td>Bread - Wheat Baguette</td>\n",
       "      <td>Tuesday Morning</td>\n",
       "      <td>0.41</td>\n",
       "    </tr>\n",
       "    <tr>\n",
       "      <th>996</th>\n",
       "      <td>1000</td>\n",
       "      <td>Soup - Knorr, French Onion</td>\n",
       "      <td>Big Lots</td>\n",
       "      <td>4.42</td>\n",
       "    </tr>\n",
       "  </tbody>\n",
       "</table>\n",
       "<p>997 rows × 4 columns</p>\n",
       "</div>"
      ],
      "text/plain": [
       "     ProductId                 ProductName                 Supplier  \\\n",
       "0            1    Chocolate Bar - Smarties          National Stores   \n",
       "1            2           Pepper - Red Bell            Family Dollar   \n",
       "2            3           Chickensplit Half      BJ's Wholesale Club   \n",
       "3            4            Zucchini - Green      Ocean State Job Lot   \n",
       "4            6        Flower - Dish Garden      BJ's Wholesale Club   \n",
       "..         ...                         ...                      ...   \n",
       "992        996                        Okra                  Walmart   \n",
       "993        997    Pork - Smoked Back Bacon                T.J. Maxx   \n",
       "994        998            Flounder - Fresh  Burlington Coat Factory   \n",
       "995        999      Bread - Wheat Baguette          Tuesday Morning   \n",
       "996       1000  Soup - Knorr, French Onion                 Big Lots   \n",
       "\n",
       "     ProductCost  \n",
       "0           1.25  \n",
       "1           2.99  \n",
       "2           0.17  \n",
       "3           5.28  \n",
       "4           0.37  \n",
       "..           ...  \n",
       "992         0.99  \n",
       "993         1.45  \n",
       "994         1.80  \n",
       "995         0.41  \n",
       "996         4.42  \n",
       "\n",
       "[997 rows x 4 columns]"
      ]
     },
     "execution_count": 4,
     "metadata": {},
     "output_type": "execute_result"
    }
   ],
   "source": [
    "df_product = pd.read_csv(\"D:/Project/walmart/Products.csv\")\n",
    "df_product"
   ]
  },
  {
   "cell_type": "code",
   "execution_count": 5,
   "id": "e677c69a",
   "metadata": {},
   "outputs": [
    {
     "data": {
      "text/html": [
       "<div>\n",
       "<style scoped>\n",
       "    .dataframe tbody tr th:only-of-type {\n",
       "        vertical-align: middle;\n",
       "    }\n",
       "\n",
       "    .dataframe tbody tr th {\n",
       "        vertical-align: top;\n",
       "    }\n",
       "\n",
       "    .dataframe thead th {\n",
       "        text-align: right;\n",
       "    }\n",
       "</style>\n",
       "<table border=\"1\" class=\"dataframe\">\n",
       "  <thead>\n",
       "    <tr style=\"text-align: right;\">\n",
       "      <th></th>\n",
       "      <th>SalesId</th>\n",
       "      <th>StoreId</th>\n",
       "      <th>ProductId</th>\n",
       "      <th>Date</th>\n",
       "      <th>UnitPrice</th>\n",
       "      <th>Quantity</th>\n",
       "    </tr>\n",
       "  </thead>\n",
       "  <tbody>\n",
       "    <tr>\n",
       "      <th>0</th>\n",
       "      <td>82319</td>\n",
       "      <td>22726</td>\n",
       "      <td>590</td>\n",
       "      <td>12/2/2019</td>\n",
       "      <td>0.0525</td>\n",
       "      <td>93</td>\n",
       "    </tr>\n",
       "    <tr>\n",
       "      <th>1</th>\n",
       "      <td>15022</td>\n",
       "      <td>21754</td>\n",
       "      <td>390</td>\n",
       "      <td>11/19/2017</td>\n",
       "      <td>5.1100</td>\n",
       "      <td>28</td>\n",
       "    </tr>\n",
       "    <tr>\n",
       "      <th>2</th>\n",
       "      <td>11624</td>\n",
       "      <td>71053</td>\n",
       "      <td>883</td>\n",
       "      <td>7/13/2020</td>\n",
       "      <td>7.3675</td>\n",
       "      <td>33</td>\n",
       "    </tr>\n",
       "    <tr>\n",
       "      <th>3</th>\n",
       "      <td>63101</td>\n",
       "      <td>22914</td>\n",
       "      <td>658</td>\n",
       "      <td>5/12/2019</td>\n",
       "      <td>2.0825</td>\n",
       "      <td>76</td>\n",
       "    </tr>\n",
       "    <tr>\n",
       "      <th>4</th>\n",
       "      <td>29702</td>\n",
       "      <td>22623</td>\n",
       "      <td>632</td>\n",
       "      <td>7/20/2020</td>\n",
       "      <td>0.6475</td>\n",
       "      <td>8</td>\n",
       "    </tr>\n",
       "    <tr>\n",
       "      <th>...</th>\n",
       "      <td>...</td>\n",
       "      <td>...</td>\n",
       "      <td>...</td>\n",
       "      <td>...</td>\n",
       "      <td>...</td>\n",
       "      <td>...</td>\n",
       "    </tr>\n",
       "    <tr>\n",
       "      <th>199995</th>\n",
       "      <td>57660</td>\n",
       "      <td>85123</td>\n",
       "      <td>682</td>\n",
       "      <td>7/1/2019</td>\n",
       "      <td>4.4625</td>\n",
       "      <td>75</td>\n",
       "    </tr>\n",
       "    <tr>\n",
       "      <th>199996</th>\n",
       "      <td>18783</td>\n",
       "      <td>22727</td>\n",
       "      <td>656</td>\n",
       "      <td>4/18/2017</td>\n",
       "      <td>1.6800</td>\n",
       "      <td>30</td>\n",
       "    </tr>\n",
       "    <tr>\n",
       "      <th>199997</th>\n",
       "      <td>25064</td>\n",
       "      <td>22912</td>\n",
       "      <td>831</td>\n",
       "      <td>6/10/2019</td>\n",
       "      <td>2.5025</td>\n",
       "      <td>60</td>\n",
       "    </tr>\n",
       "    <tr>\n",
       "      <th>199998</th>\n",
       "      <td>43683</td>\n",
       "      <td>22622</td>\n",
       "      <td>902</td>\n",
       "      <td>8/6/2018</td>\n",
       "      <td>3.2025</td>\n",
       "      <td>98</td>\n",
       "    </tr>\n",
       "    <tr>\n",
       "      <th>199999</th>\n",
       "      <td>44211</td>\n",
       "      <td>22749</td>\n",
       "      <td>775</td>\n",
       "      <td>6/22/2018</td>\n",
       "      <td>1.8550</td>\n",
       "      <td>32</td>\n",
       "    </tr>\n",
       "  </tbody>\n",
       "</table>\n",
       "<p>200000 rows × 6 columns</p>\n",
       "</div>"
      ],
      "text/plain": [
       "        SalesId  StoreId  ProductId        Date  UnitPrice  Quantity\n",
       "0         82319    22726        590   12/2/2019     0.0525        93\n",
       "1         15022    21754        390  11/19/2017     5.1100        28\n",
       "2         11624    71053        883   7/13/2020     7.3675        33\n",
       "3         63101    22914        658   5/12/2019     2.0825        76\n",
       "4         29702    22623        632   7/20/2020     0.6475         8\n",
       "...         ...      ...        ...         ...        ...       ...\n",
       "199995    57660    85123        682    7/1/2019     4.4625        75\n",
       "199996    18783    22727        656   4/18/2017     1.6800        30\n",
       "199997    25064    22912        831   6/10/2019     2.5025        60\n",
       "199998    43683    22622        902    8/6/2018     3.2025        98\n",
       "199999    44211    22749        775   6/22/2018     1.8550        32\n",
       "\n",
       "[200000 rows x 6 columns]"
      ]
     },
     "execution_count": 5,
     "metadata": {},
     "output_type": "execute_result"
    }
   ],
   "source": [
    "df_sales = pd.read_csv(\"D:/Project/walmart/Sales.csv\")\n",
    "df_sales"
   ]
  },
  {
   "cell_type": "code",
   "execution_count": 6,
   "id": "6e16704c",
   "metadata": {},
   "outputs": [
    {
     "data": {
      "text/html": [
       "<div>\n",
       "<style scoped>\n",
       "    .dataframe tbody tr th:only-of-type {\n",
       "        vertical-align: middle;\n",
       "    }\n",
       "\n",
       "    .dataframe tbody tr th {\n",
       "        vertical-align: top;\n",
       "    }\n",
       "\n",
       "    .dataframe thead th {\n",
       "        text-align: right;\n",
       "    }\n",
       "</style>\n",
       "<table border=\"1\" class=\"dataframe\">\n",
       "  <thead>\n",
       "    <tr style=\"text-align: right;\">\n",
       "      <th></th>\n",
       "      <th>ProductId</th>\n",
       "      <th>StoreId</th>\n",
       "      <th>StoreName</th>\n",
       "      <th>Address</th>\n",
       "      <th>neighborhood</th>\n",
       "      <th>QuantityAvailable</th>\n",
       "    </tr>\n",
       "  </thead>\n",
       "  <tbody>\n",
       "    <tr>\n",
       "      <th>0</th>\n",
       "      <td>1</td>\n",
       "      <td>85123</td>\n",
       "      <td>National Stores</td>\n",
       "      <td>9 Springview Point</td>\n",
       "      <td>Bolton Hill</td>\n",
       "      <td>11</td>\n",
       "    </tr>\n",
       "    <tr>\n",
       "      <th>1</th>\n",
       "      <td>2</td>\n",
       "      <td>71053</td>\n",
       "      <td>Family Dollar</td>\n",
       "      <td>5434 Daystar Circle</td>\n",
       "      <td>Ashburton</td>\n",
       "      <td>1</td>\n",
       "    </tr>\n",
       "    <tr>\n",
       "      <th>2</th>\n",
       "      <td>3</td>\n",
       "      <td>84406</td>\n",
       "      <td>BJ's Wholesale Club</td>\n",
       "      <td>3 Darwin Drive</td>\n",
       "      <td>Morrell Park</td>\n",
       "      <td>11</td>\n",
       "    </tr>\n",
       "    <tr>\n",
       "      <th>3</th>\n",
       "      <td>4</td>\n",
       "      <td>84029</td>\n",
       "      <td>Ocean State Job Lot</td>\n",
       "      <td>684 Bunting Lane</td>\n",
       "      <td>Fells Point</td>\n",
       "      <td>1</td>\n",
       "    </tr>\n",
       "    <tr>\n",
       "      <th>4</th>\n",
       "      <td>5</td>\n",
       "      <td>37444</td>\n",
       "      <td>Ollie's Bargain Outlet</td>\n",
       "      <td>50162 John Wall Drive</td>\n",
       "      <td>Charles Village</td>\n",
       "      <td>3</td>\n",
       "    </tr>\n",
       "    <tr>\n",
       "      <th>...</th>\n",
       "      <td>...</td>\n",
       "      <td>...</td>\n",
       "      <td>...</td>\n",
       "      <td>...</td>\n",
       "      <td>...</td>\n",
       "      <td>...</td>\n",
       "    </tr>\n",
       "    <tr>\n",
       "      <th>994</th>\n",
       "      <td>996</td>\n",
       "      <td>21777</td>\n",
       "      <td>Walmart</td>\n",
       "      <td>7 Roxbury Place</td>\n",
       "      <td>Sabina-Mattfeldt</td>\n",
       "      <td>3</td>\n",
       "    </tr>\n",
       "    <tr>\n",
       "      <th>995</th>\n",
       "      <td>997</td>\n",
       "      <td>10002</td>\n",
       "      <td>T.J. Maxx</td>\n",
       "      <td>9476 Morrow Trail</td>\n",
       "      <td>Seton Business Park</td>\n",
       "      <td>12</td>\n",
       "    </tr>\n",
       "    <tr>\n",
       "      <th>996</th>\n",
       "      <td>998</td>\n",
       "      <td>22745</td>\n",
       "      <td>Burlington Coat Factory</td>\n",
       "      <td>3029 Hollow Ridge Place</td>\n",
       "      <td>Upton</td>\n",
       "      <td>6</td>\n",
       "    </tr>\n",
       "    <tr>\n",
       "      <th>997</th>\n",
       "      <td>999</td>\n",
       "      <td>21755</td>\n",
       "      <td>Tuesday Morning</td>\n",
       "      <td>496 Dapin Hill</td>\n",
       "      <td>Belair-Edison</td>\n",
       "      <td>6</td>\n",
       "    </tr>\n",
       "    <tr>\n",
       "      <th>998</th>\n",
       "      <td>1000</td>\n",
       "      <td>22633</td>\n",
       "      <td>Big Lots</td>\n",
       "      <td>99 Granby Place</td>\n",
       "      <td>Brooklyn</td>\n",
       "      <td>2</td>\n",
       "    </tr>\n",
       "  </tbody>\n",
       "</table>\n",
       "<p>999 rows × 6 columns</p>\n",
       "</div>"
      ],
      "text/plain": [
       "     ProductId  StoreId                StoreName                  Address  \\\n",
       "0            1    85123          National Stores       9 Springview Point   \n",
       "1            2    71053            Family Dollar      5434 Daystar Circle   \n",
       "2            3    84406      BJ's Wholesale Club           3 Darwin Drive   \n",
       "3            4    84029      Ocean State Job Lot         684 Bunting Lane   \n",
       "4            5    37444   Ollie's Bargain Outlet    50162 John Wall Drive   \n",
       "..         ...      ...                      ...                      ...   \n",
       "994        996    21777                  Walmart          7 Roxbury Place   \n",
       "995        997    10002                T.J. Maxx        9476 Morrow Trail   \n",
       "996        998    22745  Burlington Coat Factory  3029 Hollow Ridge Place   \n",
       "997        999    21755          Tuesday Morning           496 Dapin Hill   \n",
       "998       1000    22633                 Big Lots          99 Granby Place   \n",
       "\n",
       "            neighborhood  QuantityAvailable  \n",
       "0            Bolton Hill                 11  \n",
       "1              Ashburton                  1  \n",
       "2           Morrell Park                 11  \n",
       "3            Fells Point                  1  \n",
       "4        Charles Village                  3  \n",
       "..                   ...                ...  \n",
       "994     Sabina-Mattfeldt                  3  \n",
       "995  Seton Business Park                 12  \n",
       "996                Upton                  6  \n",
       "997        Belair-Edison                  6  \n",
       "998             Brooklyn                  2  \n",
       "\n",
       "[999 rows x 6 columns]"
      ]
     },
     "execution_count": 6,
     "metadata": {},
     "output_type": "execute_result"
    }
   ],
   "source": [
    "df_Inventory = pd.read_csv(\"D:/Project/Walmart/Inventory.csv\")\n",
    "df_Inventory"
   ]
  },
  {
   "cell_type": "code",
   "execution_count": 7,
   "id": "e0ce1e3f",
   "metadata": {},
   "outputs": [
    {
     "name": "stdout",
     "output_type": "stream",
     "text": [
      "Record the columns of data products:  997\n"
     ]
    }
   ],
   "source": [
    "print(\"Record the columns of data products: \", len(df_product))"
   ]
  },
  {
   "cell_type": "code",
   "execution_count": 8,
   "id": "373d2ab3",
   "metadata": {},
   "outputs": [
    {
     "name": "stdout",
     "output_type": "stream",
     "text": [
      "Record the columns of data sales:  200000\n"
     ]
    }
   ],
   "source": [
    "print(\"Record the columns of data sales: \", len(df_sales))"
   ]
  },
  {
   "cell_type": "code",
   "execution_count": 9,
   "id": "92cb28ca",
   "metadata": {},
   "outputs": [
    {
     "name": "stdout",
     "output_type": "stream",
     "text": [
      "Record the columns of data Inventory:  999\n"
     ]
    }
   ],
   "source": [
    "print(\"Record the columns of data Inventory: \", len(df_Inventory))"
   ]
  },
  {
   "cell_type": "code",
   "execution_count": 10,
   "id": "f6a474ce",
   "metadata": {},
   "outputs": [
    {
     "name": "stdout",
     "output_type": "stream",
     "text": [
      "<class 'pandas.core.frame.DataFrame'>\n",
      "RangeIndex: 997 entries, 0 to 996\n",
      "Data columns (total 4 columns):\n",
      " #   Column       Non-Null Count  Dtype  \n",
      "---  ------       --------------  -----  \n",
      " 0   ProductId    997 non-null    int64  \n",
      " 1   ProductName  997 non-null    object \n",
      " 2   Supplier     997 non-null    object \n",
      " 3   ProductCost  997 non-null    float64\n",
      "dtypes: float64(1), int64(1), object(2)\n",
      "memory usage: 31.3+ KB\n"
     ]
    }
   ],
   "source": [
    "df_product.info()"
   ]
  },
  {
   "cell_type": "code",
   "execution_count": 11,
   "id": "1cd29765",
   "metadata": {},
   "outputs": [
    {
     "name": "stdout",
     "output_type": "stream",
     "text": [
      "<class 'pandas.core.frame.DataFrame'>\n",
      "RangeIndex: 997 entries, 0 to 996\n",
      "Data columns (total 4 columns):\n",
      " #   Column       Non-Null Count  Dtype  \n",
      "---  ------       --------------  -----  \n",
      " 0   ProductId    997 non-null    int64  \n",
      " 1   ProductName  997 non-null    object \n",
      " 2   Supplier     997 non-null    object \n",
      " 3   ProductCost  997 non-null    float64\n",
      "dtypes: float64(1), int64(1), object(2)\n",
      "memory usage: 31.3+ KB\n"
     ]
    }
   ],
   "source": [
    "df_product.info()"
   ]
  },
  {
   "cell_type": "code",
   "execution_count": 12,
   "id": "26a188da",
   "metadata": {},
   "outputs": [
    {
     "name": "stdout",
     "output_type": "stream",
     "text": [
      "<class 'pandas.core.frame.DataFrame'>\n",
      "RangeIndex: 200000 entries, 0 to 199999\n",
      "Data columns (total 6 columns):\n",
      " #   Column     Non-Null Count   Dtype  \n",
      "---  ------     --------------   -----  \n",
      " 0   SalesId    200000 non-null  int64  \n",
      " 1   StoreId    200000 non-null  int64  \n",
      " 2   ProductId  200000 non-null  int64  \n",
      " 3   Date       200000 non-null  object \n",
      " 4   UnitPrice  200000 non-null  float64\n",
      " 5   Quantity   200000 non-null  int64  \n",
      "dtypes: float64(1), int64(4), object(1)\n",
      "memory usage: 9.2+ MB\n"
     ]
    }
   ],
   "source": [
    "df_sales.info()"
   ]
  },
  {
   "cell_type": "code",
   "execution_count": 13,
   "id": "2c511e57",
   "metadata": {},
   "outputs": [
    {
     "name": "stdout",
     "output_type": "stream",
     "text": [
      "<class 'pandas.core.frame.DataFrame'>\n",
      "RangeIndex: 999 entries, 0 to 998\n",
      "Data columns (total 6 columns):\n",
      " #   Column             Non-Null Count  Dtype \n",
      "---  ------             --------------  ----- \n",
      " 0   ProductId          999 non-null    int64 \n",
      " 1   StoreId            999 non-null    int64 \n",
      " 2   StoreName          999 non-null    object\n",
      " 3   Address            999 non-null    object\n",
      " 4   neighborhood       999 non-null    object\n",
      " 5   QuantityAvailable  999 non-null    int64 \n",
      "dtypes: int64(3), object(3)\n",
      "memory usage: 47.0+ KB\n"
     ]
    }
   ],
   "source": [
    "df_Inventory.info()"
   ]
  },
  {
   "cell_type": "code",
   "execution_count": 14,
   "id": "3c08e980",
   "metadata": {},
   "outputs": [],
   "source": [
    "datetime_column = [\"Date\"]\n",
    "for column in datetime_column:\n",
    "    df_sales[column] = pd.to_datetime(df_sales[column])"
   ]
  },
  {
   "cell_type": "code",
   "execution_count": 15,
   "id": "e19a1b10",
   "metadata": {
    "scrolled": true
   },
   "outputs": [
    {
     "name": "stdout",
     "output_type": "stream",
     "text": [
      "<class 'pandas.core.frame.DataFrame'>\n",
      "RangeIndex: 200000 entries, 0 to 199999\n",
      "Data columns (total 6 columns):\n",
      " #   Column     Non-Null Count   Dtype         \n",
      "---  ------     --------------   -----         \n",
      " 0   SalesId    200000 non-null  int64         \n",
      " 1   StoreId    200000 non-null  int64         \n",
      " 2   ProductId  200000 non-null  int64         \n",
      " 3   Date       200000 non-null  datetime64[ns]\n",
      " 4   UnitPrice  200000 non-null  float64       \n",
      " 5   Quantity   200000 non-null  int64         \n",
      "dtypes: datetime64[ns](1), float64(1), int64(4)\n",
      "memory usage: 9.2 MB\n"
     ]
    }
   ],
   "source": [
    "df_sales.info()"
   ]
  },
  {
   "cell_type": "code",
   "execution_count": 16,
   "id": "6478761f",
   "metadata": {},
   "outputs": [
    {
     "name": "stdout",
     "output_type": "stream",
     "text": [
      "Number duplicated of Sales Data:  0\n"
     ]
    }
   ],
   "source": [
    "print(\"Number duplicated of Sales Data: \", df_sales.duplicated().sum())"
   ]
  },
  {
   "cell_type": "code",
   "execution_count": 17,
   "id": "16281def",
   "metadata": {},
   "outputs": [
    {
     "name": "stdout",
     "output_type": "stream",
     "text": [
      "Number duplicated of Product Data:  0\n"
     ]
    }
   ],
   "source": [
    "print(\"Number duplicated of Product Data: \", df_product.duplicated().sum())"
   ]
  },
  {
   "cell_type": "code",
   "execution_count": 18,
   "id": "07b7cf9d",
   "metadata": {},
   "outputs": [
    {
     "name": "stdout",
     "output_type": "stream",
     "text": [
      "Number duplicated of Inventory Data:  0\n"
     ]
    }
   ],
   "source": [
    "print(\"Number duplicated of Inventory Data: \", df_Inventory.duplicated().sum())"
   ]
  },
  {
   "cell_type": "code",
   "execution_count": 19,
   "id": "56a80270",
   "metadata": {},
   "outputs": [
    {
     "data": {
      "text/plain": [
       "SalesId      0\n",
       "StoreId      0\n",
       "ProductId    0\n",
       "Date         0\n",
       "UnitPrice    0\n",
       "Quantity     0\n",
       "dtype: int64"
      ]
     },
     "execution_count": 19,
     "metadata": {},
     "output_type": "execute_result"
    }
   ],
   "source": [
    "df_sales.isnull().sum()"
   ]
  },
  {
   "cell_type": "code",
   "execution_count": 20,
   "id": "002cf81b",
   "metadata": {},
   "outputs": [
    {
     "data": {
      "text/plain": [
       "ProductId      0\n",
       "ProductName    0\n",
       "Supplier       0\n",
       "ProductCost    0\n",
       "dtype: int64"
      ]
     },
     "execution_count": 20,
     "metadata": {},
     "output_type": "execute_result"
    }
   ],
   "source": [
    "df_product.isnull().sum()"
   ]
  },
  {
   "cell_type": "code",
   "execution_count": 21,
   "id": "6c735892",
   "metadata": {},
   "outputs": [
    {
     "data": {
      "text/plain": [
       "ProductId            0\n",
       "StoreId              0\n",
       "StoreName            0\n",
       "Address              0\n",
       "neighborhood         0\n",
       "QuantityAvailable    0\n",
       "dtype: int64"
      ]
     },
     "execution_count": 21,
     "metadata": {},
     "output_type": "execute_result"
    }
   ],
   "source": [
    "df_Inventory.isnull().sum()"
   ]
  },
  {
   "cell_type": "markdown",
   "id": "274029e3",
   "metadata": {},
   "source": [
    "Note: I Had cleaning data before from excel, so i have checked the null value from those dataset, but just make sure it i had cleaning it clear, i check it again."
   ]
  },
  {
   "cell_type": "markdown",
   "id": "05a98e15",
   "metadata": {},
   "source": [
    "EXPLORATORY DATA"
   ]
  },
  {
   "cell_type": "code",
   "execution_count": 22,
   "id": "bba951b9",
   "metadata": {},
   "outputs": [
    {
     "data": {
      "text/html": [
       "<div>\n",
       "<style scoped>\n",
       "    .dataframe tbody tr th:only-of-type {\n",
       "        vertical-align: middle;\n",
       "    }\n",
       "\n",
       "    .dataframe tbody tr th {\n",
       "        vertical-align: top;\n",
       "    }\n",
       "\n",
       "    .dataframe thead th {\n",
       "        text-align: right;\n",
       "    }\n",
       "</style>\n",
       "<table border=\"1\" class=\"dataframe\">\n",
       "  <thead>\n",
       "    <tr style=\"text-align: right;\">\n",
       "      <th></th>\n",
       "      <th>ProductId</th>\n",
       "      <th>ProductCost</th>\n",
       "    </tr>\n",
       "  </thead>\n",
       "  <tbody>\n",
       "    <tr>\n",
       "      <th>count</th>\n",
       "      <td>997.000000</td>\n",
       "      <td>997.000000</td>\n",
       "    </tr>\n",
       "    <tr>\n",
       "      <th>mean</th>\n",
       "      <td>500.840522</td>\n",
       "      <td>1.899418</td>\n",
       "    </tr>\n",
       "    <tr>\n",
       "      <th>std</th>\n",
       "      <td>288.419390</td>\n",
       "      <td>1.604860</td>\n",
       "    </tr>\n",
       "    <tr>\n",
       "      <th>min</th>\n",
       "      <td>1.000000</td>\n",
       "      <td>0.020000</td>\n",
       "    </tr>\n",
       "    <tr>\n",
       "      <th>25%</th>\n",
       "      <td>252.000000</td>\n",
       "      <td>0.750000</td>\n",
       "    </tr>\n",
       "    <tr>\n",
       "      <th>50%</th>\n",
       "      <td>501.000000</td>\n",
       "      <td>1.590000</td>\n",
       "    </tr>\n",
       "    <tr>\n",
       "      <th>75%</th>\n",
       "      <td>750.000000</td>\n",
       "      <td>2.460000</td>\n",
       "    </tr>\n",
       "    <tr>\n",
       "      <th>max</th>\n",
       "      <td>1000.000000</td>\n",
       "      <td>12.090000</td>\n",
       "    </tr>\n",
       "  </tbody>\n",
       "</table>\n",
       "</div>"
      ],
      "text/plain": [
       "         ProductId  ProductCost\n",
       "count   997.000000   997.000000\n",
       "mean    500.840522     1.899418\n",
       "std     288.419390     1.604860\n",
       "min       1.000000     0.020000\n",
       "25%     252.000000     0.750000\n",
       "50%     501.000000     1.590000\n",
       "75%     750.000000     2.460000\n",
       "max    1000.000000    12.090000"
      ]
     },
     "execution_count": 22,
     "metadata": {},
     "output_type": "execute_result"
    }
   ],
   "source": [
    "df_product.describe()"
   ]
  },
  {
   "cell_type": "code",
   "execution_count": 23,
   "id": "9c1b16b0",
   "metadata": {},
   "outputs": [
    {
     "data": {
      "text/html": [
       "<div>\n",
       "<style scoped>\n",
       "    .dataframe tbody tr th:only-of-type {\n",
       "        vertical-align: middle;\n",
       "    }\n",
       "\n",
       "    .dataframe tbody tr th {\n",
       "        vertical-align: top;\n",
       "    }\n",
       "\n",
       "    .dataframe thead th {\n",
       "        text-align: right;\n",
       "    }\n",
       "</style>\n",
       "<table border=\"1\" class=\"dataframe\">\n",
       "  <thead>\n",
       "    <tr style=\"text-align: right;\">\n",
       "      <th></th>\n",
       "      <th>SalesId</th>\n",
       "      <th>StoreId</th>\n",
       "      <th>ProductId</th>\n",
       "      <th>Date</th>\n",
       "      <th>UnitPrice</th>\n",
       "      <th>Quantity</th>\n",
       "    </tr>\n",
       "  </thead>\n",
       "  <tbody>\n",
       "    <tr>\n",
       "      <th>count</th>\n",
       "      <td>200000.000000</td>\n",
       "      <td>200000.000000</td>\n",
       "      <td>200000.000000</td>\n",
       "      <td>200000</td>\n",
       "      <td>200000.000000</td>\n",
       "      <td>200000.000000</td>\n",
       "    </tr>\n",
       "    <tr>\n",
       "      <th>mean</th>\n",
       "      <td>49997.590185</td>\n",
       "      <td>33720.734235</td>\n",
       "      <td>500.587255</td>\n",
       "      <td>2018-12-31 17:58:32.736000</td>\n",
       "      <td>3.313406</td>\n",
       "      <td>50.383910</td>\n",
       "    </tr>\n",
       "    <tr>\n",
       "      <th>min</th>\n",
       "      <td>10000.000000</td>\n",
       "      <td>10002.000000</td>\n",
       "      <td>1.000000</td>\n",
       "      <td>2017-01-01 00:00:00</td>\n",
       "      <td>0.017500</td>\n",
       "      <td>1.000000</td>\n",
       "    </tr>\n",
       "    <tr>\n",
       "      <th>25%</th>\n",
       "      <td>29959.000000</td>\n",
       "      <td>21791.000000</td>\n",
       "      <td>250.000000</td>\n",
       "      <td>2018-01-01 00:00:00</td>\n",
       "      <td>1.277500</td>\n",
       "      <td>25.000000</td>\n",
       "    </tr>\n",
       "    <tr>\n",
       "      <th>50%</th>\n",
       "      <td>50048.000000</td>\n",
       "      <td>22728.000000</td>\n",
       "      <td>501.000000</td>\n",
       "      <td>2018-12-31 00:00:00</td>\n",
       "      <td>2.765000</td>\n",
       "      <td>50.000000</td>\n",
       "    </tr>\n",
       "    <tr>\n",
       "      <th>75%</th>\n",
       "      <td>70043.000000</td>\n",
       "      <td>22960.000000</td>\n",
       "      <td>751.000000</td>\n",
       "      <td>2020-01-01 00:00:00</td>\n",
       "      <td>4.287500</td>\n",
       "      <td>75.000000</td>\n",
       "    </tr>\n",
       "    <tr>\n",
       "      <th>max</th>\n",
       "      <td>90000.000000</td>\n",
       "      <td>85123.000000</td>\n",
       "      <td>1000.000000</td>\n",
       "      <td>2020-12-30 00:00:00</td>\n",
       "      <td>21.157500</td>\n",
       "      <td>100.000000</td>\n",
       "    </tr>\n",
       "    <tr>\n",
       "      <th>std</th>\n",
       "      <td>23095.103021</td>\n",
       "      <td>23209.383882</td>\n",
       "      <td>288.611347</td>\n",
       "      <td>NaN</td>\n",
       "      <td>2.812360</td>\n",
       "      <td>28.870702</td>\n",
       "    </tr>\n",
       "  </tbody>\n",
       "</table>\n",
       "</div>"
      ],
      "text/plain": [
       "             SalesId        StoreId      ProductId  \\\n",
       "count  200000.000000  200000.000000  200000.000000   \n",
       "mean    49997.590185   33720.734235     500.587255   \n",
       "min     10000.000000   10002.000000       1.000000   \n",
       "25%     29959.000000   21791.000000     250.000000   \n",
       "50%     50048.000000   22728.000000     501.000000   \n",
       "75%     70043.000000   22960.000000     751.000000   \n",
       "max     90000.000000   85123.000000    1000.000000   \n",
       "std     23095.103021   23209.383882     288.611347   \n",
       "\n",
       "                             Date      UnitPrice       Quantity  \n",
       "count                      200000  200000.000000  200000.000000  \n",
       "mean   2018-12-31 17:58:32.736000       3.313406      50.383910  \n",
       "min           2017-01-01 00:00:00       0.017500       1.000000  \n",
       "25%           2018-01-01 00:00:00       1.277500      25.000000  \n",
       "50%           2018-12-31 00:00:00       2.765000      50.000000  \n",
       "75%           2020-01-01 00:00:00       4.287500      75.000000  \n",
       "max           2020-12-30 00:00:00      21.157500     100.000000  \n",
       "std                           NaN       2.812360      28.870702  "
      ]
     },
     "execution_count": 23,
     "metadata": {},
     "output_type": "execute_result"
    }
   ],
   "source": [
    "df_sales.describe()"
   ]
  },
  {
   "cell_type": "markdown",
   "id": "c884852d",
   "metadata": {},
   "source": [
    "Berapa Jumlah Store di setiap daerahnya?"
   ]
  },
  {
   "cell_type": "code",
   "execution_count": 24,
   "id": "be0b9c5c",
   "metadata": {},
   "outputs": [],
   "source": [
    "def loc_filter(neighborhood):\n",
    "    if len(neighborhood.split(\",\")) == 2:\n",
    "           return neighborhood.split(\",\")[1].replace(\" \" , \"\")\n",
    "    else:\n",
    "           return neighborhood\n",
    "           \n",
    "df_Inventory['neighborhood'] = df_Inventory['neighborhood'].apply(lambda x:loc_filter(x))"
   ]
  },
  {
   "cell_type": "markdown",
   "id": "c2badd36",
   "metadata": {},
   "source": [
    "Berapa jumlah produk yang tersisa dari setiap produknya?"
   ]
  },
  {
   "cell_type": "code",
   "execution_count": 25,
   "id": "ff771712",
   "metadata": {
    "scrolled": true
   },
   "outputs": [],
   "source": [
    "#df_sale = pd.merge(df_sales, df_inventory, on='ProductId', suffixes=('_sales', '_inventory'))\n",
    "#df_saled = pd.merge(df_sale, df_products, on= 'ProductId', suffixes=('_sales','_inventory', '_products'))\n",
    "#Make new column \n",
    "#df_sales['QuantitySaled'] = df_saled['Quantity'] - df_saled['QuantityAvailable']\n",
    "#print(df_saled[['ProductName','StoreName','QuantitySaled']])"
   ]
  },
  {
   "cell_type": "code",
   "execution_count": 26,
   "id": "47bee5d7",
   "metadata": {},
   "outputs": [
    {
     "name": "stdout",
     "output_type": "stream",
     "text": [
      "                         ProductName   StoreName  QuantitySaled\n",
      "0      Wine - Wyndham Estate Bin 777     Bi-Mart             81\n",
      "1      Wine - Wyndham Estate Bin 777     Bi-Mart             42\n",
      "2      Wine - Wyndham Estate Bin 777     Bi-Mart             84\n",
      "3      Wine - Wyndham Estate Bin 777     Bi-Mart             51\n",
      "4      Wine - Wyndham Estate Bin 777     Bi-Mart             76\n",
      "...                              ...         ...            ...\n",
      "9970             Muffin Hinge - 211n  Stein Mart             49\n",
      "9971             Muffin Hinge - 211n  Stein Mart             83\n",
      "9972             Muffin Hinge - 211n  Stein Mart             91\n",
      "9973  Beef - Montreal Smoked Brisket    Big Lots             81\n",
      "9974  Beef - Montreal Smoked Brisket    Big Lots             37\n",
      "\n",
      "[199221 rows x 3 columns]\n"
     ]
    }
   ],
   "source": [
    "def preprocess(chunk):\n",
    "   df_sale = pd.merge(chunk, df_Inventory, on='ProductId', suffixes=('_sales', '_Inventory'))\n",
    "   df_saled = pd.merge(df_sale, df_product, on='ProductId', suffixes=('_sales', '_Inventory', '_products'))\n",
    "   df_saled['QuantitySaled'] = df_saled['Quantity'] - df_saled['QuantityAvailable']\n",
    "   return df_saled\n",
    "\n",
    "df_saled = pd.concat([preprocess(chunk) for chunk in pd.read_csv('D:/Project/walmart/Sales.csv', chunksize=10000)])\n",
    "\n",
    "print(df_saled[['ProductName','StoreName','QuantitySaled']])"
   ]
  },
  {
   "cell_type": "markdown",
   "id": "e738adfa",
   "metadata": {},
   "source": [
    "I have two option for this merge syntax, i use chunk cause i'm out of my memory"
   ]
  },
  {
   "cell_type": "code",
   "execution_count": 27,
   "id": "fcc28efc",
   "metadata": {},
   "outputs": [
    {
     "data": {
      "application/vnd.plotly.v1+json": {
       "config": {
        "plotlyServerURL": "https://plot.ly"
       },
       "data": [
        {
         "marker": {
          "color": "blue"
         },
         "text": [
          "57",
          "46",
          "44",
          "39",
          "38",
          "38",
          "36",
          "34",
          "33",
          "33",
          "32",
          "32",
          "31",
          "31",
          "31",
          "30",
          "30",
          "30",
          "29",
          "29",
          "28",
          "27",
          "27",
          "26",
          "26",
          "26",
          "25",
          "25",
          "24",
          "22",
          "21",
          "19"
         ],
         "type": "bar",
         "x": [
          57,
          46,
          44,
          39,
          38,
          38,
          36,
          34,
          33,
          33,
          32,
          32,
          31,
          31,
          31,
          30,
          30,
          30,
          29,
          29,
          28,
          27,
          27,
          26,
          26,
          26,
          25,
          25,
          24,
          22,
          21,
          19
         ],
         "y": [
          "Charles Village",
          "Bridgeview/Greenlawn",
          "Washington Village",
          "Millhill",
          "Ashburton",
          "Seton Business Park",
          "Sabina-Mattfeldt",
          "Oliver",
          "Frankford",
          "Central Park Heights",
          "Pulaski Industrial Area",
          "Ellwood Park/Monument",
          "Gay Street",
          "Mondawmin",
          "Upton",
          "Canton",
          "Port Covington",
          "Glen Oaks",
          "Bolton Hill",
          "Morrell Park",
          "Cherry Hill",
          "Baltimore Highlands",
          "Fells Point",
          "Belair-Edison",
          "Hunting Ridge",
          "Glenham-Belford",
          "Loch Raven",
          "Hampden",
          "Better Waverly",
          "Hoes Heights",
          "Brooklyn",
          "Mount Holly"
         ]
        }
       ],
       "layout": {
        "height": 900,
        "template": {
         "data": {
          "bar": [
           {
            "error_x": {
             "color": "#2a3f5f"
            },
            "error_y": {
             "color": "#2a3f5f"
            },
            "marker": {
             "line": {
              "color": "#E5ECF6",
              "width": 0.5
             },
             "pattern": {
              "fillmode": "overlay",
              "size": 10,
              "solidity": 0.2
             }
            },
            "type": "bar"
           }
          ],
          "barpolar": [
           {
            "marker": {
             "line": {
              "color": "#E5ECF6",
              "width": 0.5
             },
             "pattern": {
              "fillmode": "overlay",
              "size": 10,
              "solidity": 0.2
             }
            },
            "type": "barpolar"
           }
          ],
          "carpet": [
           {
            "aaxis": {
             "endlinecolor": "#2a3f5f",
             "gridcolor": "white",
             "linecolor": "white",
             "minorgridcolor": "white",
             "startlinecolor": "#2a3f5f"
            },
            "baxis": {
             "endlinecolor": "#2a3f5f",
             "gridcolor": "white",
             "linecolor": "white",
             "minorgridcolor": "white",
             "startlinecolor": "#2a3f5f"
            },
            "type": "carpet"
           }
          ],
          "choropleth": [
           {
            "colorbar": {
             "outlinewidth": 0,
             "ticks": ""
            },
            "type": "choropleth"
           }
          ],
          "contour": [
           {
            "colorbar": {
             "outlinewidth": 0,
             "ticks": ""
            },
            "colorscale": [
             [
              0,
              "#0d0887"
             ],
             [
              0.1111111111111111,
              "#46039f"
             ],
             [
              0.2222222222222222,
              "#7201a8"
             ],
             [
              0.3333333333333333,
              "#9c179e"
             ],
             [
              0.4444444444444444,
              "#bd3786"
             ],
             [
              0.5555555555555556,
              "#d8576b"
             ],
             [
              0.6666666666666666,
              "#ed7953"
             ],
             [
              0.7777777777777778,
              "#fb9f3a"
             ],
             [
              0.8888888888888888,
              "#fdca26"
             ],
             [
              1,
              "#f0f921"
             ]
            ],
            "type": "contour"
           }
          ],
          "contourcarpet": [
           {
            "colorbar": {
             "outlinewidth": 0,
             "ticks": ""
            },
            "type": "contourcarpet"
           }
          ],
          "heatmap": [
           {
            "colorbar": {
             "outlinewidth": 0,
             "ticks": ""
            },
            "colorscale": [
             [
              0,
              "#0d0887"
             ],
             [
              0.1111111111111111,
              "#46039f"
             ],
             [
              0.2222222222222222,
              "#7201a8"
             ],
             [
              0.3333333333333333,
              "#9c179e"
             ],
             [
              0.4444444444444444,
              "#bd3786"
             ],
             [
              0.5555555555555556,
              "#d8576b"
             ],
             [
              0.6666666666666666,
              "#ed7953"
             ],
             [
              0.7777777777777778,
              "#fb9f3a"
             ],
             [
              0.8888888888888888,
              "#fdca26"
             ],
             [
              1,
              "#f0f921"
             ]
            ],
            "type": "heatmap"
           }
          ],
          "heatmapgl": [
           {
            "colorbar": {
             "outlinewidth": 0,
             "ticks": ""
            },
            "colorscale": [
             [
              0,
              "#0d0887"
             ],
             [
              0.1111111111111111,
              "#46039f"
             ],
             [
              0.2222222222222222,
              "#7201a8"
             ],
             [
              0.3333333333333333,
              "#9c179e"
             ],
             [
              0.4444444444444444,
              "#bd3786"
             ],
             [
              0.5555555555555556,
              "#d8576b"
             ],
             [
              0.6666666666666666,
              "#ed7953"
             ],
             [
              0.7777777777777778,
              "#fb9f3a"
             ],
             [
              0.8888888888888888,
              "#fdca26"
             ],
             [
              1,
              "#f0f921"
             ]
            ],
            "type": "heatmapgl"
           }
          ],
          "histogram": [
           {
            "marker": {
             "pattern": {
              "fillmode": "overlay",
              "size": 10,
              "solidity": 0.2
             }
            },
            "type": "histogram"
           }
          ],
          "histogram2d": [
           {
            "colorbar": {
             "outlinewidth": 0,
             "ticks": ""
            },
            "colorscale": [
             [
              0,
              "#0d0887"
             ],
             [
              0.1111111111111111,
              "#46039f"
             ],
             [
              0.2222222222222222,
              "#7201a8"
             ],
             [
              0.3333333333333333,
              "#9c179e"
             ],
             [
              0.4444444444444444,
              "#bd3786"
             ],
             [
              0.5555555555555556,
              "#d8576b"
             ],
             [
              0.6666666666666666,
              "#ed7953"
             ],
             [
              0.7777777777777778,
              "#fb9f3a"
             ],
             [
              0.8888888888888888,
              "#fdca26"
             ],
             [
              1,
              "#f0f921"
             ]
            ],
            "type": "histogram2d"
           }
          ],
          "histogram2dcontour": [
           {
            "colorbar": {
             "outlinewidth": 0,
             "ticks": ""
            },
            "colorscale": [
             [
              0,
              "#0d0887"
             ],
             [
              0.1111111111111111,
              "#46039f"
             ],
             [
              0.2222222222222222,
              "#7201a8"
             ],
             [
              0.3333333333333333,
              "#9c179e"
             ],
             [
              0.4444444444444444,
              "#bd3786"
             ],
             [
              0.5555555555555556,
              "#d8576b"
             ],
             [
              0.6666666666666666,
              "#ed7953"
             ],
             [
              0.7777777777777778,
              "#fb9f3a"
             ],
             [
              0.8888888888888888,
              "#fdca26"
             ],
             [
              1,
              "#f0f921"
             ]
            ],
            "type": "histogram2dcontour"
           }
          ],
          "mesh3d": [
           {
            "colorbar": {
             "outlinewidth": 0,
             "ticks": ""
            },
            "type": "mesh3d"
           }
          ],
          "parcoords": [
           {
            "line": {
             "colorbar": {
              "outlinewidth": 0,
              "ticks": ""
             }
            },
            "type": "parcoords"
           }
          ],
          "pie": [
           {
            "automargin": true,
            "type": "pie"
           }
          ],
          "scatter": [
           {
            "fillpattern": {
             "fillmode": "overlay",
             "size": 10,
             "solidity": 0.2
            },
            "type": "scatter"
           }
          ],
          "scatter3d": [
           {
            "line": {
             "colorbar": {
              "outlinewidth": 0,
              "ticks": ""
             }
            },
            "marker": {
             "colorbar": {
              "outlinewidth": 0,
              "ticks": ""
             }
            },
            "type": "scatter3d"
           }
          ],
          "scattercarpet": [
           {
            "marker": {
             "colorbar": {
              "outlinewidth": 0,
              "ticks": ""
             }
            },
            "type": "scattercarpet"
           }
          ],
          "scattergeo": [
           {
            "marker": {
             "colorbar": {
              "outlinewidth": 0,
              "ticks": ""
             }
            },
            "type": "scattergeo"
           }
          ],
          "scattergl": [
           {
            "marker": {
             "colorbar": {
              "outlinewidth": 0,
              "ticks": ""
             }
            },
            "type": "scattergl"
           }
          ],
          "scattermapbox": [
           {
            "marker": {
             "colorbar": {
              "outlinewidth": 0,
              "ticks": ""
             }
            },
            "type": "scattermapbox"
           }
          ],
          "scatterpolar": [
           {
            "marker": {
             "colorbar": {
              "outlinewidth": 0,
              "ticks": ""
             }
            },
            "type": "scatterpolar"
           }
          ],
          "scatterpolargl": [
           {
            "marker": {
             "colorbar": {
              "outlinewidth": 0,
              "ticks": ""
             }
            },
            "type": "scatterpolargl"
           }
          ],
          "scatterternary": [
           {
            "marker": {
             "colorbar": {
              "outlinewidth": 0,
              "ticks": ""
             }
            },
            "type": "scatterternary"
           }
          ],
          "surface": [
           {
            "colorbar": {
             "outlinewidth": 0,
             "ticks": ""
            },
            "colorscale": [
             [
              0,
              "#0d0887"
             ],
             [
              0.1111111111111111,
              "#46039f"
             ],
             [
              0.2222222222222222,
              "#7201a8"
             ],
             [
              0.3333333333333333,
              "#9c179e"
             ],
             [
              0.4444444444444444,
              "#bd3786"
             ],
             [
              0.5555555555555556,
              "#d8576b"
             ],
             [
              0.6666666666666666,
              "#ed7953"
             ],
             [
              0.7777777777777778,
              "#fb9f3a"
             ],
             [
              0.8888888888888888,
              "#fdca26"
             ],
             [
              1,
              "#f0f921"
             ]
            ],
            "type": "surface"
           }
          ],
          "table": [
           {
            "cells": {
             "fill": {
              "color": "#EBF0F8"
             },
             "line": {
              "color": "white"
             }
            },
            "header": {
             "fill": {
              "color": "#C8D4E3"
             },
             "line": {
              "color": "white"
             }
            },
            "type": "table"
           }
          ]
         },
         "layout": {
          "annotationdefaults": {
           "arrowcolor": "#2a3f5f",
           "arrowhead": 0,
           "arrowwidth": 1
          },
          "autotypenumbers": "strict",
          "coloraxis": {
           "colorbar": {
            "outlinewidth": 0,
            "ticks": ""
           }
          },
          "colorscale": {
           "diverging": [
            [
             0,
             "#8e0152"
            ],
            [
             0.1,
             "#c51b7d"
            ],
            [
             0.2,
             "#de77ae"
            ],
            [
             0.3,
             "#f1b6da"
            ],
            [
             0.4,
             "#fde0ef"
            ],
            [
             0.5,
             "#f7f7f7"
            ],
            [
             0.6,
             "#e6f5d0"
            ],
            [
             0.7,
             "#b8e186"
            ],
            [
             0.8,
             "#7fbc41"
            ],
            [
             0.9,
             "#4d9221"
            ],
            [
             1,
             "#276419"
            ]
           ],
           "sequential": [
            [
             0,
             "#0d0887"
            ],
            [
             0.1111111111111111,
             "#46039f"
            ],
            [
             0.2222222222222222,
             "#7201a8"
            ],
            [
             0.3333333333333333,
             "#9c179e"
            ],
            [
             0.4444444444444444,
             "#bd3786"
            ],
            [
             0.5555555555555556,
             "#d8576b"
            ],
            [
             0.6666666666666666,
             "#ed7953"
            ],
            [
             0.7777777777777778,
             "#fb9f3a"
            ],
            [
             0.8888888888888888,
             "#fdca26"
            ],
            [
             1,
             "#f0f921"
            ]
           ],
           "sequentialminus": [
            [
             0,
             "#0d0887"
            ],
            [
             0.1111111111111111,
             "#46039f"
            ],
            [
             0.2222222222222222,
             "#7201a8"
            ],
            [
             0.3333333333333333,
             "#9c179e"
            ],
            [
             0.4444444444444444,
             "#bd3786"
            ],
            [
             0.5555555555555556,
             "#d8576b"
            ],
            [
             0.6666666666666666,
             "#ed7953"
            ],
            [
             0.7777777777777778,
             "#fb9f3a"
            ],
            [
             0.8888888888888888,
             "#fdca26"
            ],
            [
             1,
             "#f0f921"
            ]
           ]
          },
          "colorway": [
           "#636efa",
           "#EF553B",
           "#00cc96",
           "#ab63fa",
           "#FFA15A",
           "#19d3f3",
           "#FF6692",
           "#B6E880",
           "#FF97FF",
           "#FECB52"
          ],
          "font": {
           "color": "#2a3f5f"
          },
          "geo": {
           "bgcolor": "white",
           "lakecolor": "white",
           "landcolor": "#E5ECF6",
           "showlakes": true,
           "showland": true,
           "subunitcolor": "white"
          },
          "hoverlabel": {
           "align": "left"
          },
          "hovermode": "closest",
          "mapbox": {
           "style": "light"
          },
          "paper_bgcolor": "white",
          "plot_bgcolor": "#E5ECF6",
          "polar": {
           "angularaxis": {
            "gridcolor": "white",
            "linecolor": "white",
            "ticks": ""
           },
           "bgcolor": "#E5ECF6",
           "radialaxis": {
            "gridcolor": "white",
            "linecolor": "white",
            "ticks": ""
           }
          },
          "scene": {
           "xaxis": {
            "backgroundcolor": "#E5ECF6",
            "gridcolor": "white",
            "gridwidth": 2,
            "linecolor": "white",
            "showbackground": true,
            "ticks": "",
            "zerolinecolor": "white"
           },
           "yaxis": {
            "backgroundcolor": "#E5ECF6",
            "gridcolor": "white",
            "gridwidth": 2,
            "linecolor": "white",
            "showbackground": true,
            "ticks": "",
            "zerolinecolor": "white"
           },
           "zaxis": {
            "backgroundcolor": "#E5ECF6",
            "gridcolor": "white",
            "gridwidth": 2,
            "linecolor": "white",
            "showbackground": true,
            "ticks": "",
            "zerolinecolor": "white"
           }
          },
          "shapedefaults": {
           "line": {
            "color": "#2a3f5f"
           }
          },
          "ternary": {
           "aaxis": {
            "gridcolor": "white",
            "linecolor": "white",
            "ticks": ""
           },
           "baxis": {
            "gridcolor": "white",
            "linecolor": "white",
            "ticks": ""
           },
           "bgcolor": "#E5ECF6",
           "caxis": {
            "gridcolor": "white",
            "linecolor": "white",
            "ticks": ""
           }
          },
          "title": {
           "x": 0.05
          },
          "xaxis": {
           "automargin": true,
           "gridcolor": "white",
           "linecolor": "white",
           "ticks": "",
           "title": {
            "standoff": 15
           },
           "zerolinecolor": "white",
           "zerolinewidth": 2
          },
          "yaxis": {
           "automargin": true,
           "gridcolor": "white",
           "linecolor": "white",
           "ticks": "",
           "title": {
            "standoff": 15
           },
           "zerolinecolor": "white",
           "zerolinewidth": 2
          }
         }
        },
        "width": 2000,
        "xaxis": {
         "side": "top"
        }
       }
      }
     },
     "metadata": {},
     "output_type": "display_data"
    }
   ],
   "source": [
    "neighborhood = df_Inventory['neighborhood'].value_counts().index.to_list()\n",
    "StoreValue = df_Inventory['neighborhood'].value_counts().values.tolist()\n",
    "colors='blue'\n",
    "fig = go.Figure(data=[go.Bar(\n",
    "                x = StoreValue,\n",
    "                y = neighborhood,\n",
    "                text =StoreValue,\n",
    "                marker=dict(color=colors))])\n",
    "fig.update_layout(\n",
    "    width = 2000,\n",
    "    height = 900)\n",
    "fig.update_layout(\n",
    "    xaxis=dict(side='top'))\n",
    "fig.show()"
   ]
  },
  {
   "cell_type": "code",
   "execution_count": 28,
   "id": "a4fefc0c",
   "metadata": {},
   "outputs": [
    {
     "name": "stdout",
     "output_type": "stream",
     "text": [
      "Number of Quantity Saled:  199221\n"
     ]
    }
   ],
   "source": [
    "print(\"Number of Quantity Saled: \", len(df_saled['QuantitySaled']))"
   ]
  },
  {
   "cell_type": "code",
   "execution_count": 29,
   "id": "b55f3b77",
   "metadata": {},
   "outputs": [
    {
     "name": "stdout",
     "output_type": "stream",
     "text": [
      "Number of Product:  199221\n"
     ]
    }
   ],
   "source": [
    "print(\"Number of Product: \", len(df_saled['ProductName']))"
   ]
  },
  {
   "cell_type": "markdown",
   "id": "0655cd31",
   "metadata": {},
   "source": [
    "Rata-Rata jumlah produk yang dijual dalam sebulan"
   ]
  },
  {
   "cell_type": "code",
   "execution_count": 30,
   "id": "a838007c",
   "metadata": {},
   "outputs": [
    {
     "name": "stdout",
     "output_type": "stream",
     "text": [
      "        ProductId  Month  MonthAvg\n",
      "0             590     12        81\n",
      "1             590     11        42\n",
      "2             590      7        84\n",
      "3             590      5        51\n",
      "4             590      7        76\n",
      "...           ...    ...       ...\n",
      "199779          2     11         9\n",
      "199780          2      3        81\n",
      "199781          2      6         6\n",
      "199782          2      6        94\n",
      "199783          2      8        68\n",
      "\n",
      "[199784 rows x 3 columns]\n"
     ]
    }
   ],
   "source": [
    "df_sale = pd.merge(df_sales, df_Inventory, on='ProductId', suffixes=('_sales', '_inventory'))\n",
    "df_sale ['MonthAvg'] = (df_sale['Quantity'] - df_sale['QuantityAvailable'])\n",
    "df_sale['Month'] = df_sales['Date'].dt.month\n",
    "df_monthavg = df_sale.groupby(['Month'])['MonthAvg'].mean()\n",
    "print(df_sale[['ProductId', 'Month', 'MonthAvg']])"
   ]
  },
  {
   "cell_type": "code",
   "execution_count": 31,
   "id": "964a061a",
   "metadata": {},
   "outputs": [
    {
     "data": {
      "image/png": "[encoded data removed]",
      "text/plain": [
       "<Figure size 1000x600 with 1 Axes>"
      ]
     },
     "metadata": {},
     "output_type": "display_data"
    }
   ],
   "source": [
    "df_monthavg = df_sale.groupby(['Month'])['MonthAvg'].mean()\n",
    "\n",
    "plt.figure(figsize=(10,6))\n",
    "df_monthavg.plot(kind='line')\n",
    "plt.title('Average Monthly Sales Over Time')\n",
    "plt.xlabel('Month')\n",
    "plt.ylabel('Average Monthly Sales')\n",
    "plt.show()\n"
   ]
  },
  {
   "cell_type": "markdown",
   "id": "479464b9",
   "metadata": {},
   "source": [
    "Rata-Rata Jumlah Produk yang dijual dalam seminggu"
   ]
  },
  {
   "cell_type": "code",
   "execution_count": 32,
   "id": "36da0323",
   "metadata": {},
   "outputs": [
    {
     "name": "stdout",
     "output_type": "stream",
     "text": [
      "        ProductId  Week  WeekAvg\n",
      "0             590    49       81\n",
      "1             590    10       42\n",
      "2             590    38       84\n",
      "3             590    23       51\n",
      "4             590    50       76\n",
      "...           ...   ...      ...\n",
      "199779          2    29        9\n",
      "199780          2     8       81\n",
      "199781          2    39        6\n",
      "199782          2    42       94\n",
      "199783          2     6       68\n",
      "\n",
      "[199784 rows x 3 columns]\n"
     ]
    }
   ],
   "source": [
    "df_sale = pd.merge(df_sales, df_Inventory, on='ProductId', suffixes=('_sales', '_inventory'))\n",
    "# Make new column \n",
    "df_sale ['WeekAvg'] = (df_sale['Quantity'] - df_sale['QuantityAvailable'])\n",
    "df_sale['Week'] = df_sale['Date'].dt.isocalendar().week\n",
    "df_Weekavg = df_sale.groupby(['Week'])['WeekAvg'].mean()\n",
    "print(df_sale[['ProductId', 'Week', 'WeekAvg']])"
   ]
  },
  {
   "cell_type": "code",
   "execution_count": 33,
   "id": "e81c746e",
   "metadata": {},
   "outputs": [
    {
     "data": {
      "image/png": "[encoded data removed]",
      "text/plain": [
       "<Figure size 1000x600 with 1 Axes>"
      ]
     },
     "metadata": {},
     "output_type": "display_data"
    }
   ],
   "source": [
    "df_Weekavg = df_sale.groupby(['Week'])['WeekAvg'].mean()\n",
    "plt.figure(figsize=(10,6))\n",
    "df_Weekavg.plot(kind='line')\n",
    "plt.title('Average Weekly Sales Over Time')\n",
    "plt.xlabel('Weekly')\n",
    "plt.ylabel('Average Weekly Sales')\n",
    "plt.show()"
   ]
  }
 ],
 "metadata": {
  "kernelspec": {
   "display_name": "Python 3 (ipykernel)",
   "language": "python",
   "name": "python3"
  },
  "language_info": {
   "codemirror_mode": {
    "name": "ipython",
    "version": 3
   },
   "file_extension": ".py",
   "mimetype": "text/x-python",
   "name": "python",
   "nbconvert_exporter": "python",
   "pygments_lexer": "ipython3",
   "version": "3.11.5"
  }
 },
 "nbformat": 4,
 "nbformat_minor": 5
}
